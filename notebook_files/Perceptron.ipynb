{
 "cells": [
  {
   "cell_type": "code",
   "execution_count": 1,
   "id": "44c07a5e",
   "metadata": {},
   "outputs": [],
   "source": [
    "import os\n",
    "import pandas as pd\n",
    "import matplotlib.pyplot as plt\n",
    "import numpy as np\n",
    "import seaborn as sns\n",
    "import joblib\n",
    "from matplotlib.colors import ListedColormap\n",
    "\n",
    "plt.style.use(\"fivethirtyeight\")"
   ]
  },
  {
   "cell_type": "code",
   "execution_count": 8,
   "id": "a1b3c3a6",
   "metadata": {
    "scrolled": true
   },
   "outputs": [
    {
     "data": {
      "text/plain": [
       "array([[ 0.,  0., -1.],\n",
       "       [ 0.,  1., -1.],\n",
       "       [ 1.,  0., -1.],\n",
       "       [ 1.,  1., -1.]])"
      ]
     },
     "execution_count": 8,
     "metadata": {},
     "output_type": "execute_result"
    }
   ],
   "source": [
    "# np.c_[X, -np.ones((len(X), 1))]"
   ]
  },
  {
   "cell_type": "code",
   "execution_count": 3,
   "id": "029550ed",
   "metadata": {},
   "outputs": [],
   "source": [
    "class Perceptron:\n",
    "    def __init__(self, eta: float=None, epochs: int=None):\n",
    "        self.weights = np.random.randn(3) * 1e-4\n",
    "        is_training = (eta is not None) and (epochs is not None)\n",
    "        if is_training:\n",
    "            print(f\"Initial weights before traning: \\n{self.weights}\")\n",
    "            \n",
    "        self.eta = eta\n",
    "        self.epochs = epochs\n",
    "    \n",
    "    def _z_outcome(self, inputs, weights):\n",
    "        return np.dot(inputs, weights)\n",
    "    \n",
    "    def activation_function(self, z):\n",
    "        return np.where(z > 0, 1, 0)\n",
    "    \n",
    "    def fit(self, X, y):\n",
    "        self.X = X\n",
    "        self.y = y\n",
    "        \n",
    "        X_with_bias = np.c_[self.X, -np.ones((len(self.X), 1))]\n",
    "        print(f\"X with bias: \\n{X_with_bias}\")\n",
    "        \n",
    "        for epoch in range(self.epochs):\n",
    "            print(\"--\"*20)\n",
    "            print(f\"for epoch >> {epoch+1}\")\n",
    "            print(\"--\"*20)\n",
    "            \n",
    "            z = self._z_outcome(X_with_bias, self.weights)\n",
    "            y_hat = self.activation_function(z)\n",
    "            print(f\"Predicted value after forward pass: \\n{y_hat}\")\n",
    "            \n",
    "            self.error = self.y - y_hat\n",
    "            print(f\"Error: \\n{self.error}\")\n",
    "            \n",
    "            self.weights = self.weights + self.eta * np.dot(X_with_bias.T, self.error)\n",
    "            print(f\"Updated weights after epoch: {epoch+1}/{self.epochs}: \\n{self.weights}\")\n",
    "            print(\"##\"*20)\n",
    "            \n",
    "    \n",
    "    def predict(self, X_pred):\n",
    "        X_pred_with_bias = np.c_[X_pred, -np.ones((len(X_pred), 1))]\n",
    "        z_pred = self._z_outcome(X_pred_with_bias, self.weights)\n",
    "        y_outcome = self.activation_function(z_pred)\n",
    "        \n",
    "        return y_outcome\n",
    "    \n",
    "    def total_loss(self):\n",
    "        loss = np.sum(self.error)\n",
    "        print(f\"\\nTotal loss: {loss}\\n\")\n",
    "        return loss\n",
    "    \n",
    "    def _create_dir_return_path(self, model_dir, file_name):\n",
    "        os.makedirs(model_dir, exist_ok=True)\n",
    "        return os.path.join(model_dir, file_name)\n",
    "    \n",
    "    def save(self, file_name, model_dir=None):\n",
    "        if model_dir is not None:\n",
    "            model_file_path = self._create_dir_return_path(model_dir, file_name)\n",
    "            joblib.dump(self, model_file_path)\n",
    "            print(f\"Model is saved in {model_file_path}\")\n",
    "        else:\n",
    "            model_file_path = self._create_dir_return_path('model', file_name)\n",
    "            joblib.dump(self, model_file_path)\n",
    "            print(f\"Model is saved in {model_file_path}\")\n",
    "    \n",
    "    def load(self, filepath):\n",
    "        print(\"MOdel is loded \\n\")\n",
    "        return joblib.load(filepath)\n",
    "        "
   ]
  },
  {
   "cell_type": "code",
   "execution_count": 4,
   "id": "8354e27c",
   "metadata": {},
   "outputs": [
    {
     "data": {
      "text/html": [
       "<div>\n",
       "<style scoped>\n",
       "    .dataframe tbody tr th:only-of-type {\n",
       "        vertical-align: middle;\n",
       "    }\n",
       "\n",
       "    .dataframe tbody tr th {\n",
       "        vertical-align: top;\n",
       "    }\n",
       "\n",
       "    .dataframe thead th {\n",
       "        text-align: right;\n",
       "    }\n",
       "</style>\n",
       "<table border=\"1\" class=\"dataframe\">\n",
       "  <thead>\n",
       "    <tr style=\"text-align: right;\">\n",
       "      <th></th>\n",
       "      <th>x1</th>\n",
       "      <th>x2</th>\n",
       "      <th>y</th>\n",
       "    </tr>\n",
       "  </thead>\n",
       "  <tbody>\n",
       "    <tr>\n",
       "      <th>0</th>\n",
       "      <td>0</td>\n",
       "      <td>0</td>\n",
       "      <td>0</td>\n",
       "    </tr>\n",
       "    <tr>\n",
       "      <th>1</th>\n",
       "      <td>0</td>\n",
       "      <td>1</td>\n",
       "      <td>0</td>\n",
       "    </tr>\n",
       "    <tr>\n",
       "      <th>2</th>\n",
       "      <td>1</td>\n",
       "      <td>0</td>\n",
       "      <td>0</td>\n",
       "    </tr>\n",
       "    <tr>\n",
       "      <th>3</th>\n",
       "      <td>1</td>\n",
       "      <td>1</td>\n",
       "      <td>1</td>\n",
       "    </tr>\n",
       "  </tbody>\n",
       "</table>\n",
       "</div>"
      ],
      "text/plain": [
       "   x1  x2  y\n",
       "0   0   0  0\n",
       "1   0   1  0\n",
       "2   1   0  0\n",
       "3   1   1  1"
      ]
     },
     "execution_count": 4,
     "metadata": {},
     "output_type": "execute_result"
    }
   ],
   "source": [
    "AND = pd.DataFrame({\"x1\":(0,0,1,1),\n",
    "                    \"x2\":(0,1,0,1),\n",
    "                    \"y\":(0,0,0,1)})\n",
    "AND"
   ]
  },
  {
   "cell_type": "code",
   "execution_count": 5,
   "id": "ba7b6ce5",
   "metadata": {},
   "outputs": [],
   "source": [
    "def X_y_split(df, target_col='y'):\n",
    "    X = df.drop(target_col, axis=1)\n",
    "    y = df[target_col]\n",
    "    \n",
    "    return X,y"
   ]
  },
  {
   "cell_type": "code",
   "execution_count": 6,
   "id": "d428ba84",
   "metadata": {},
   "outputs": [
    {
     "name": "stdout",
     "output_type": "stream",
     "text": [
      "X:  (4, 2)\n",
      "y:  (4,)\n"
     ]
    }
   ],
   "source": [
    "X,y = X_y_split(AND)\n",
    "print(f\"X:  {X.shape}\\ny:  {y.shape}\")"
   ]
  },
  {
   "cell_type": "code",
   "execution_count": 7,
   "id": "bf204d4b",
   "metadata": {
    "scrolled": true
   },
   "outputs": [
    {
     "name": "stdout",
     "output_type": "stream",
     "text": [
      "Initial weights before traning: \n",
      "[-1.62779374e-05 -1.11255636e-04  7.70192065e-05]\n",
      "X with bias: \n",
      "[[ 0.  0. -1.]\n",
      " [ 0.  1. -1.]\n",
      " [ 1.  0. -1.]\n",
      " [ 1.  1. -1.]]\n",
      "----------------------------------------\n",
      "for epoch >> 1\n",
      "----------------------------------------\n",
      "Predicted value after forward pass: \n",
      "[0 0 0 0]\n",
      "Error: \n",
      "0    0\n",
      "1    0\n",
      "2    0\n",
      "3    1\n",
      "Name: y, dtype: int64\n",
      "Updated weights after epoch: 1/10: \n",
      "[ 0.09998372  0.09988874 -0.09992298]\n",
      "########################################\n",
      "----------------------------------------\n",
      "for epoch >> 2\n",
      "----------------------------------------\n",
      "Predicted value after forward pass: \n",
      "[1 1 1 1]\n",
      "Error: \n",
      "0   -1\n",
      "1   -1\n",
      "2   -1\n",
      "3    0\n",
      "Name: y, dtype: int64\n",
      "Updated weights after epoch: 2/10: \n",
      "[-1.62779374e-05 -1.11255636e-04  2.00077019e-01]\n",
      "########################################\n",
      "----------------------------------------\n",
      "for epoch >> 3\n",
      "----------------------------------------\n",
      "Predicted value after forward pass: \n",
      "[0 0 0 0]\n",
      "Error: \n",
      "0    0\n",
      "1    0\n",
      "2    0\n",
      "3    1\n",
      "Name: y, dtype: int64\n",
      "Updated weights after epoch: 3/10: \n",
      "[0.09998372 0.09988874 0.10007702]\n",
      "########################################\n",
      "----------------------------------------\n",
      "for epoch >> 4\n",
      "----------------------------------------\n",
      "Predicted value after forward pass: \n",
      "[0 0 0 1]\n",
      "Error: \n",
      "0    0\n",
      "1    0\n",
      "2    0\n",
      "3    0\n",
      "Name: y, dtype: int64\n",
      "Updated weights after epoch: 4/10: \n",
      "[0.09998372 0.09988874 0.10007702]\n",
      "########################################\n",
      "----------------------------------------\n",
      "for epoch >> 5\n",
      "----------------------------------------\n",
      "Predicted value after forward pass: \n",
      "[0 0 0 1]\n",
      "Error: \n",
      "0    0\n",
      "1    0\n",
      "2    0\n",
      "3    0\n",
      "Name: y, dtype: int64\n",
      "Updated weights after epoch: 5/10: \n",
      "[0.09998372 0.09988874 0.10007702]\n",
      "########################################\n",
      "----------------------------------------\n",
      "for epoch >> 6\n",
      "----------------------------------------\n",
      "Predicted value after forward pass: \n",
      "[0 0 0 1]\n",
      "Error: \n",
      "0    0\n",
      "1    0\n",
      "2    0\n",
      "3    0\n",
      "Name: y, dtype: int64\n",
      "Updated weights after epoch: 6/10: \n",
      "[0.09998372 0.09988874 0.10007702]\n",
      "########################################\n",
      "----------------------------------------\n",
      "for epoch >> 7\n",
      "----------------------------------------\n",
      "Predicted value after forward pass: \n",
      "[0 0 0 1]\n",
      "Error: \n",
      "0    0\n",
      "1    0\n",
      "2    0\n",
      "3    0\n",
      "Name: y, dtype: int64\n",
      "Updated weights after epoch: 7/10: \n",
      "[0.09998372 0.09988874 0.10007702]\n",
      "########################################\n",
      "----------------------------------------\n",
      "for epoch >> 8\n",
      "----------------------------------------\n",
      "Predicted value after forward pass: \n",
      "[0 0 0 1]\n",
      "Error: \n",
      "0    0\n",
      "1    0\n",
      "2    0\n",
      "3    0\n",
      "Name: y, dtype: int64\n",
      "Updated weights after epoch: 8/10: \n",
      "[0.09998372 0.09988874 0.10007702]\n",
      "########################################\n",
      "----------------------------------------\n",
      "for epoch >> 9\n",
      "----------------------------------------\n",
      "Predicted value after forward pass: \n",
      "[0 0 0 1]\n",
      "Error: \n",
      "0    0\n",
      "1    0\n",
      "2    0\n",
      "3    0\n",
      "Name: y, dtype: int64\n",
      "Updated weights after epoch: 9/10: \n",
      "[0.09998372 0.09988874 0.10007702]\n",
      "########################################\n",
      "----------------------------------------\n",
      "for epoch >> 10\n",
      "----------------------------------------\n",
      "Predicted value after forward pass: \n",
      "[0 0 0 1]\n",
      "Error: \n",
      "0    0\n",
      "1    0\n",
      "2    0\n",
      "3    0\n",
      "Name: y, dtype: int64\n",
      "Updated weights after epoch: 10/10: \n",
      "[0.09998372 0.09988874 0.10007702]\n",
      "########################################\n",
      "\n",
      "Total loss: 0\n",
      "\n"
     ]
    }
   ],
   "source": [
    "ETA = 0.1\n",
    "EPOCHS = 10\n",
    "\n",
    "model_and = Perceptron(eta=ETA, epochs=EPOCHS)\n",
    "model_and.fit(X, y)\n",
    "\n",
    "_ = model_and.total_loss()"
   ]
  },
  {
   "cell_type": "code",
   "execution_count": 8,
   "id": "30ea73d8",
   "metadata": {
    "scrolled": true
   },
   "outputs": [
    {
     "name": "stdout",
     "output_type": "stream",
     "text": [
      "Model is saved in model\\and.model\n"
     ]
    }
   ],
   "source": [
    "## Save model\n",
    "\n",
    "model_and.save('and.model')"
   ]
  },
  {
   "cell_type": "code",
   "execution_count": 9,
   "id": "7ace408e",
   "metadata": {},
   "outputs": [
    {
     "name": "stdout",
     "output_type": "stream",
     "text": [
      "MOdel is loded \n",
      "\n"
     ]
    }
   ],
   "source": [
    "## load and model\n",
    "\n",
    "load_and = Perceptron().load('model/and.model')"
   ]
  },
  {
   "cell_type": "code",
   "execution_count": 10,
   "id": "ce38016a",
   "metadata": {},
   "outputs": [
    {
     "data": {
      "text/plain": [
       "array([0])"
      ]
     },
     "execution_count": 10,
     "metadata": {},
     "output_type": "execute_result"
    }
   ],
   "source": [
    "load_and.predict([[1,0]])"
   ]
  },
  {
   "cell_type": "code",
   "execution_count": 11,
   "id": "d1bc6c15",
   "metadata": {},
   "outputs": [
    {
     "data": {
      "text/html": [
       "<div>\n",
       "<style scoped>\n",
       "    .dataframe tbody tr th:only-of-type {\n",
       "        vertical-align: middle;\n",
       "    }\n",
       "\n",
       "    .dataframe tbody tr th {\n",
       "        vertical-align: top;\n",
       "    }\n",
       "\n",
       "    .dataframe thead th {\n",
       "        text-align: right;\n",
       "    }\n",
       "</style>\n",
       "<table border=\"1\" class=\"dataframe\">\n",
       "  <thead>\n",
       "    <tr style=\"text-align: right;\">\n",
       "      <th></th>\n",
       "      <th>x1</th>\n",
       "      <th>x2</th>\n",
       "      <th>y</th>\n",
       "    </tr>\n",
       "  </thead>\n",
       "  <tbody>\n",
       "    <tr>\n",
       "      <th>0</th>\n",
       "      <td>0</td>\n",
       "      <td>0</td>\n",
       "      <td>0</td>\n",
       "    </tr>\n",
       "    <tr>\n",
       "      <th>1</th>\n",
       "      <td>0</td>\n",
       "      <td>1</td>\n",
       "      <td>1</td>\n",
       "    </tr>\n",
       "    <tr>\n",
       "      <th>2</th>\n",
       "      <td>1</td>\n",
       "      <td>0</td>\n",
       "      <td>1</td>\n",
       "    </tr>\n",
       "    <tr>\n",
       "      <th>3</th>\n",
       "      <td>1</td>\n",
       "      <td>1</td>\n",
       "      <td>1</td>\n",
       "    </tr>\n",
       "  </tbody>\n",
       "</table>\n",
       "</div>"
      ],
      "text/plain": [
       "   x1  x2  y\n",
       "0   0   0  0\n",
       "1   0   1  1\n",
       "2   1   0  1\n",
       "3   1   1  1"
      ]
     },
     "execution_count": 11,
     "metadata": {},
     "output_type": "execute_result"
    }
   ],
   "source": [
    "OR = pd.DataFrame({\"x1\":(0,0,1,1), \n",
    "                    \"x2\":(0,1,0,1), \n",
    "                    \"y\":(0,1,1,1)})\n",
    "OR"
   ]
  },
  {
   "cell_type": "code",
   "execution_count": 12,
   "id": "5f3095db",
   "metadata": {},
   "outputs": [
    {
     "name": "stdout",
     "output_type": "stream",
     "text": [
      "X:  (4, 2)\n",
      "y:  (4,)\n"
     ]
    }
   ],
   "source": [
    "X,y = X_y_split(OR)\n",
    "print(f\"X:  {X.shape}\\ny:  {y.shape}\")"
   ]
  },
  {
   "cell_type": "code",
   "execution_count": 13,
   "id": "ef2d46d0",
   "metadata": {
    "scrolled": true
   },
   "outputs": [
    {
     "name": "stdout",
     "output_type": "stream",
     "text": [
      "Initial weights before traning: \n",
      "[-2.49881304e-04 -1.16333935e-04  1.87968794e-05]\n",
      "X with bias: \n",
      "[[ 0.  0. -1.]\n",
      " [ 0.  1. -1.]\n",
      " [ 1.  0. -1.]\n",
      " [ 1.  1. -1.]]\n",
      "----------------------------------------\n",
      "for epoch >> 1\n",
      "----------------------------------------\n",
      "Predicted value after forward pass: \n",
      "[0 0 0 0]\n",
      "Error: \n",
      "0    0\n",
      "1    1\n",
      "2    1\n",
      "3    1\n",
      "Name: y, dtype: int64\n",
      "Updated weights after epoch: 1/10: \n",
      "[ 0.19975012  0.19988367 -0.2999812 ]\n",
      "########################################\n",
      "----------------------------------------\n",
      "for epoch >> 2\n",
      "----------------------------------------\n",
      "Predicted value after forward pass: \n",
      "[1 1 1 1]\n",
      "Error: \n",
      "0   -1\n",
      "1    0\n",
      "2    0\n",
      "3    0\n",
      "Name: y, dtype: int64\n",
      "Updated weights after epoch: 2/10: \n",
      "[ 0.19975012  0.19988367 -0.1999812 ]\n",
      "########################################\n",
      "----------------------------------------\n",
      "for epoch >> 3\n",
      "----------------------------------------\n",
      "Predicted value after forward pass: \n",
      "[1 1 1 1]\n",
      "Error: \n",
      "0   -1\n",
      "1    0\n",
      "2    0\n",
      "3    0\n",
      "Name: y, dtype: int64\n",
      "Updated weights after epoch: 3/10: \n",
      "[ 0.19975012  0.19988367 -0.0999812 ]\n",
      "########################################\n",
      "----------------------------------------\n",
      "for epoch >> 4\n",
      "----------------------------------------\n",
      "Predicted value after forward pass: \n",
      "[1 1 1 1]\n",
      "Error: \n",
      "0   -1\n",
      "1    0\n",
      "2    0\n",
      "3    0\n",
      "Name: y, dtype: int64\n",
      "Updated weights after epoch: 4/10: \n",
      "[1.99750119e-01 1.99883666e-01 1.87968794e-05]\n",
      "########################################\n",
      "----------------------------------------\n",
      "for epoch >> 5\n",
      "----------------------------------------\n",
      "Predicted value after forward pass: \n",
      "[0 1 1 1]\n",
      "Error: \n",
      "0    0\n",
      "1    0\n",
      "2    0\n",
      "3    0\n",
      "Name: y, dtype: int64\n",
      "Updated weights after epoch: 5/10: \n",
      "[1.99750119e-01 1.99883666e-01 1.87968794e-05]\n",
      "########################################\n",
      "----------------------------------------\n",
      "for epoch >> 6\n",
      "----------------------------------------\n",
      "Predicted value after forward pass: \n",
      "[0 1 1 1]\n",
      "Error: \n",
      "0    0\n",
      "1    0\n",
      "2    0\n",
      "3    0\n",
      "Name: y, dtype: int64\n",
      "Updated weights after epoch: 6/10: \n",
      "[1.99750119e-01 1.99883666e-01 1.87968794e-05]\n",
      "########################################\n",
      "----------------------------------------\n",
      "for epoch >> 7\n",
      "----------------------------------------\n",
      "Predicted value after forward pass: \n",
      "[0 1 1 1]\n",
      "Error: \n",
      "0    0\n",
      "1    0\n",
      "2    0\n",
      "3    0\n",
      "Name: y, dtype: int64\n",
      "Updated weights after epoch: 7/10: \n",
      "[1.99750119e-01 1.99883666e-01 1.87968794e-05]\n",
      "########################################\n",
      "----------------------------------------\n",
      "for epoch >> 8\n",
      "----------------------------------------\n",
      "Predicted value after forward pass: \n",
      "[0 1 1 1]\n",
      "Error: \n",
      "0    0\n",
      "1    0\n",
      "2    0\n",
      "3    0\n",
      "Name: y, dtype: int64\n",
      "Updated weights after epoch: 8/10: \n",
      "[1.99750119e-01 1.99883666e-01 1.87968794e-05]\n",
      "########################################\n",
      "----------------------------------------\n",
      "for epoch >> 9\n",
      "----------------------------------------\n",
      "Predicted value after forward pass: \n",
      "[0 1 1 1]\n",
      "Error: \n",
      "0    0\n",
      "1    0\n",
      "2    0\n",
      "3    0\n",
      "Name: y, dtype: int64\n",
      "Updated weights after epoch: 9/10: \n",
      "[1.99750119e-01 1.99883666e-01 1.87968794e-05]\n",
      "########################################\n",
      "----------------------------------------\n",
      "for epoch >> 10\n",
      "----------------------------------------\n",
      "Predicted value after forward pass: \n",
      "[0 1 1 1]\n",
      "Error: \n",
      "0    0\n",
      "1    0\n",
      "2    0\n",
      "3    0\n",
      "Name: y, dtype: int64\n",
      "Updated weights after epoch: 10/10: \n",
      "[1.99750119e-01 1.99883666e-01 1.87968794e-05]\n",
      "########################################\n",
      "\n",
      "Total loss: 0\n",
      "\n"
     ]
    }
   ],
   "source": [
    "ETA = 0.1\n",
    "EPOCHS = 10\n",
    "\n",
    "model_or = Perceptron(eta=ETA, epochs=EPOCHS)\n",
    "model_or.fit(X, y)\n",
    "\n",
    "_ = model_or.total_loss()"
   ]
  },
  {
   "cell_type": "code",
   "execution_count": 14,
   "id": "91304872",
   "metadata": {},
   "outputs": [
    {
     "name": "stdout",
     "output_type": "stream",
     "text": [
      "Model is saved in model\\or.model\n"
     ]
    }
   ],
   "source": [
    "## Save model\n",
    "\n",
    "model_or.save('or.model')"
   ]
  },
  {
   "cell_type": "code",
   "execution_count": 15,
   "id": "9e732e5d",
   "metadata": {},
   "outputs": [
    {
     "name": "stdout",
     "output_type": "stream",
     "text": [
      "MOdel is loded \n",
      "\n"
     ]
    }
   ],
   "source": [
    "## load and model\n",
    "\n",
    "load_or = Perceptron().load('model/or.model')"
   ]
  },
  {
   "cell_type": "code",
   "execution_count": 16,
   "id": "f69deeab",
   "metadata": {},
   "outputs": [
    {
     "data": {
      "text/plain": [
       "array([0])"
      ]
     },
     "execution_count": 16,
     "metadata": {},
     "output_type": "execute_result"
    }
   ],
   "source": [
    "load_or.predict([[0,0]])"
   ]
  },
  {
   "cell_type": "code",
   "execution_count": 17,
   "id": "da49ffc1",
   "metadata": {
    "scrolled": true
   },
   "outputs": [
    {
     "data": {
      "text/html": [
       "<div>\n",
       "<style scoped>\n",
       "    .dataframe tbody tr th:only-of-type {\n",
       "        vertical-align: middle;\n",
       "    }\n",
       "\n",
       "    .dataframe tbody tr th {\n",
       "        vertical-align: top;\n",
       "    }\n",
       "\n",
       "    .dataframe thead th {\n",
       "        text-align: right;\n",
       "    }\n",
       "</style>\n",
       "<table border=\"1\" class=\"dataframe\">\n",
       "  <thead>\n",
       "    <tr style=\"text-align: right;\">\n",
       "      <th></th>\n",
       "      <th>x1</th>\n",
       "      <th>x2</th>\n",
       "      <th>y</th>\n",
       "    </tr>\n",
       "  </thead>\n",
       "  <tbody>\n",
       "    <tr>\n",
       "      <th>0</th>\n",
       "      <td>0</td>\n",
       "      <td>0</td>\n",
       "      <td>0</td>\n",
       "    </tr>\n",
       "    <tr>\n",
       "      <th>1</th>\n",
       "      <td>0</td>\n",
       "      <td>1</td>\n",
       "      <td>1</td>\n",
       "    </tr>\n",
       "    <tr>\n",
       "      <th>2</th>\n",
       "      <td>1</td>\n",
       "      <td>0</td>\n",
       "      <td>1</td>\n",
       "    </tr>\n",
       "    <tr>\n",
       "      <th>3</th>\n",
       "      <td>1</td>\n",
       "      <td>1</td>\n",
       "      <td>0</td>\n",
       "    </tr>\n",
       "  </tbody>\n",
       "</table>\n",
       "</div>"
      ],
      "text/plain": [
       "   x1  x2  y\n",
       "0   0   0  0\n",
       "1   0   1  1\n",
       "2   1   0  1\n",
       "3   1   1  0"
      ]
     },
     "execution_count": 17,
     "metadata": {},
     "output_type": "execute_result"
    }
   ],
   "source": [
    "XOR = pd.DataFrame({\"x1\":(0,0,1,1), \n",
    "                    \"x2\":(0,1,0,1), \n",
    "                    \"y\":(0,1,1,0)})\n",
    "XOR"
   ]
  },
  {
   "cell_type": "code",
   "execution_count": 18,
   "id": "0d71f101",
   "metadata": {},
   "outputs": [
    {
     "name": "stdout",
     "output_type": "stream",
     "text": [
      "X:  (4, 2)\n",
      "y:  (4,)\n"
     ]
    }
   ],
   "source": [
    "X,y = X_y_split(XOR)\n",
    "print(f\"X:  {X.shape}\\ny:  {y.shape}\")"
   ]
  },
  {
   "cell_type": "code",
   "execution_count": 19,
   "id": "db6993e0",
   "metadata": {},
   "outputs": [
    {
     "name": "stdout",
     "output_type": "stream",
     "text": [
      "Initial weights before traning: \n",
      "[ 3.82775949e-05 -1.03049428e-04 -4.95377582e-05]\n",
      "X with bias: \n",
      "[[ 0.  0. -1.]\n",
      " [ 0.  1. -1.]\n",
      " [ 1.  0. -1.]\n",
      " [ 1.  1. -1.]]\n",
      "----------------------------------------\n",
      "for epoch >> 1\n",
      "----------------------------------------\n",
      "Predicted value after forward pass: \n",
      "[1 0 1 0]\n",
      "Error: \n",
      "0   -1\n",
      "1    1\n",
      "2    0\n",
      "3    0\n",
      "Name: y, dtype: int64\n",
      "Updated weights after epoch: 1/10: \n",
      "[ 3.82775949e-05  9.98969506e-02 -4.95377582e-05]\n",
      "########################################\n",
      "----------------------------------------\n",
      "for epoch >> 2\n",
      "----------------------------------------\n",
      "Predicted value after forward pass: \n",
      "[1 1 1 1]\n",
      "Error: \n",
      "0   -1\n",
      "1    0\n",
      "2    0\n",
      "3   -1\n",
      "Name: y, dtype: int64\n",
      "Updated weights after epoch: 2/10: \n",
      "[-9.99617224e-02 -1.03049428e-04  1.99950462e-01]\n",
      "########################################\n",
      "----------------------------------------\n",
      "for epoch >> 3\n",
      "----------------------------------------\n",
      "Predicted value after forward pass: \n",
      "[0 0 0 0]\n",
      "Error: \n",
      "0    0\n",
      "1    1\n",
      "2    1\n",
      "3    0\n",
      "Name: y, dtype: int64\n",
      "Updated weights after epoch: 3/10: \n",
      "[ 3.82775949e-05  9.98969506e-02 -4.95377582e-05]\n",
      "########################################\n",
      "----------------------------------------\n",
      "for epoch >> 4\n",
      "----------------------------------------\n",
      "Predicted value after forward pass: \n",
      "[1 1 1 1]\n",
      "Error: \n",
      "0   -1\n",
      "1    0\n",
      "2    0\n",
      "3   -1\n",
      "Name: y, dtype: int64\n",
      "Updated weights after epoch: 4/10: \n",
      "[-9.99617224e-02 -1.03049428e-04  1.99950462e-01]\n",
      "########################################\n",
      "----------------------------------------\n",
      "for epoch >> 5\n",
      "----------------------------------------\n",
      "Predicted value after forward pass: \n",
      "[0 0 0 0]\n",
      "Error: \n",
      "0    0\n",
      "1    1\n",
      "2    1\n",
      "3    0\n",
      "Name: y, dtype: int64\n",
      "Updated weights after epoch: 5/10: \n",
      "[ 3.82775949e-05  9.98969506e-02 -4.95377582e-05]\n",
      "########################################\n",
      "----------------------------------------\n",
      "for epoch >> 6\n",
      "----------------------------------------\n",
      "Predicted value after forward pass: \n",
      "[1 1 1 1]\n",
      "Error: \n",
      "0   -1\n",
      "1    0\n",
      "2    0\n",
      "3   -1\n",
      "Name: y, dtype: int64\n",
      "Updated weights after epoch: 6/10: \n",
      "[-9.99617224e-02 -1.03049428e-04  1.99950462e-01]\n",
      "########################################\n",
      "----------------------------------------\n",
      "for epoch >> 7\n",
      "----------------------------------------\n",
      "Predicted value after forward pass: \n",
      "[0 0 0 0]\n",
      "Error: \n",
      "0    0\n",
      "1    1\n",
      "2    1\n",
      "3    0\n",
      "Name: y, dtype: int64\n",
      "Updated weights after epoch: 7/10: \n",
      "[ 3.82775949e-05  9.98969506e-02 -4.95377582e-05]\n",
      "########################################\n",
      "----------------------------------------\n",
      "for epoch >> 8\n",
      "----------------------------------------\n",
      "Predicted value after forward pass: \n",
      "[1 1 1 1]\n",
      "Error: \n",
      "0   -1\n",
      "1    0\n",
      "2    0\n",
      "3   -1\n",
      "Name: y, dtype: int64\n",
      "Updated weights after epoch: 8/10: \n",
      "[-9.99617224e-02 -1.03049428e-04  1.99950462e-01]\n",
      "########################################\n",
      "----------------------------------------\n",
      "for epoch >> 9\n",
      "----------------------------------------\n",
      "Predicted value after forward pass: \n",
      "[0 0 0 0]\n",
      "Error: \n",
      "0    0\n",
      "1    1\n",
      "2    1\n",
      "3    0\n",
      "Name: y, dtype: int64\n",
      "Updated weights after epoch: 9/10: \n",
      "[ 3.82775949e-05  9.98969506e-02 -4.95377582e-05]\n",
      "########################################\n",
      "----------------------------------------\n",
      "for epoch >> 10\n",
      "----------------------------------------\n",
      "Predicted value after forward pass: \n",
      "[1 1 1 1]\n",
      "Error: \n",
      "0   -1\n",
      "1    0\n",
      "2    0\n",
      "3   -1\n",
      "Name: y, dtype: int64\n",
      "Updated weights after epoch: 10/10: \n",
      "[-9.99617224e-02 -1.03049428e-04  1.99950462e-01]\n",
      "########################################\n",
      "\n",
      "Total loss: -2\n",
      "\n"
     ]
    }
   ],
   "source": [
    "ETA = 0.1\n",
    "EPOCHS = 10\n",
    "\n",
    "model_xor = Perceptron(eta=ETA, epochs=EPOCHS)\n",
    "model_xor.fit(X, y)\n",
    "\n",
    "_ = model_xor.total_loss()"
   ]
  },
  {
   "cell_type": "code",
   "execution_count": 20,
   "id": "315047c8",
   "metadata": {},
   "outputs": [
    {
     "name": "stdout",
     "output_type": "stream",
     "text": [
      "Model is saved in model\\xor.model\n"
     ]
    }
   ],
   "source": [
    "## Save model\n",
    "\n",
    "model_xor.save('xor.model')"
   ]
  },
  {
   "cell_type": "code",
   "execution_count": 21,
   "id": "4b687bbb",
   "metadata": {},
   "outputs": [
    {
     "name": "stdout",
     "output_type": "stream",
     "text": [
      "MOdel is loded \n",
      "\n"
     ]
    }
   ],
   "source": [
    "## load and model\n",
    "\n",
    "model_xor = Perceptron().load('model/xor.model')"
   ]
  },
  {
   "cell_type": "code",
   "execution_count": 22,
   "id": "ff2df612",
   "metadata": {},
   "outputs": [
    {
     "data": {
      "text/plain": [
       "array([0])"
      ]
     },
     "execution_count": 22,
     "metadata": {},
     "output_type": "execute_result"
    }
   ],
   "source": [
    "model_xor.predict([[0,0]])"
   ]
  },
  {
   "cell_type": "code",
   "execution_count": 24,
   "id": "1ba4f743",
   "metadata": {},
   "outputs": [],
   "source": [
    "def save_plot(df, model, filename='plot.png', plot_dir='plots'):\n",
    "    def _create_base_plot(df):\n",
    "        df.plot(kind=\"scatter\", x='x1', y=\"x2\", c=\"y\", s=100, cmap='coolwarm')\n",
    "        plt.axhline(y=0, color='black', linestyle='--', linewidth=1)\n",
    "        plt.axvline(x=0, color='black', linestyle='--', linewidth=1)\n",
    "        \n",
    "        figure = plt.gcf()\n",
    "        figure.set_size_inches(10, 8)\n",
    "    \n",
    "    def _plot_decision_region(X, y, model, resolution=0.02):\n",
    "        color = (\"cyan\",\"lightgreen\")\n",
    "        cmap = ListedColormap(color)\n",
    "        \n",
    "        X = X.values\n",
    "        x1 = X[:, 0]\n",
    "        x2 = X[:, 1]\n",
    "        \n",
    "        x1_min, x1_max = x1.min()-1, x1.max()+1\n",
    "        x2_min, x2_max = x2.min()-1, x2.max()+1\n",
    "        \n",
    "        xx1, xx2 = np.meshgrid(np.arange(x1_min, x1_max, resolution),\n",
    "                               np.arange(x2_min, x2_max, resolution)\n",
    "                              )\n",
    "        \n",
    "        y_hat = model.predict(np.array([xx1.ravel(), xx2.ravel()]).T)\n",
    "        y_hat = y_hat.reshape(xx1.shape)\n",
    "        \n",
    "        plt.contourf(xx1, xx2, y_hat, alpha=0.3, cmap=cmap)\n",
    "        plt.xlim(xx1.min(), xx1.max())\n",
    "        plt.ylim(xx2.min(), xx2.max())\n",
    "        \n",
    "        plt.plot()\n",
    "        \n",
    "        X,y =  X_y_split(df)\n",
    "    \n",
    "    _create_base_plot(df)\n",
    "    _plot_decision_region(X, y, model)\n",
    "    \n",
    "    os.makedirs(plot_dir, exist_ok=True)\n",
    "    plot_path = os.path.join(plot_dir, filename)\n",
    "    plt.savefig(plot_path)"
   ]
  },
  {
   "cell_type": "code",
   "execution_count": 30,
   "id": "ece28ad5",
   "metadata": {},
   "outputs": [
    {
     "name": "stdout",
     "output_type": "stream",
     "text": [
      "MOdel is loded \n",
      "\n"
     ]
    },
    {
     "data": {
      "image/png": "[encoded data removed]",
      "text/plain": [
       "<Figure size 720x576 with 2 Axes>"
      ]
     },
     "metadata": {
      "needs_background": "light"
     },
     "output_type": "display_data"
    }
   ],
   "source": [
    "load_and = Perceptron().load('model/and.model')\n",
    "save_plot(AND, load_and, filename='plot_and.png')"
   ]
  },
  {
   "cell_type": "code",
   "execution_count": 29,
   "id": "8ef95f09",
   "metadata": {},
   "outputs": [
    {
     "name": "stdout",
     "output_type": "stream",
     "text": [
      "MOdel is loded \n",
      "\n"
     ]
    },
    {
     "data": {
      "image/png": "[encoded data removed]",
      "text/plain": [
       "<Figure size 720x576 with 2 Axes>"
      ]
     },
     "metadata": {
      "needs_background": "light"
     },
     "output_type": "display_data"
    }
   ],
   "source": [
    "load_or = Perceptron().load('model/or.model')\n",
    "save_plot(OR, load_or, filename='plot_or.png')"
   ]
  },
  {
   "cell_type": "code",
   "execution_count": 28,
   "id": "7ff6407a",
   "metadata": {},
   "outputs": [
    {
     "name": "stdout",
     "output_type": "stream",
     "text": [
      "MOdel is loded \n",
      "\n"
     ]
    },
    {
     "data": {
      "image/png": "[encoded data removed]",
      "text/plain": [
       "<Figure size 720x576 with 2 Axes>"
      ]
     },
     "metadata": {
      "needs_background": "light"
     },
     "output_type": "display_data"
    }
   ],
   "source": [
    "load_xor = Perceptron().load('model/xor.model')\n",
    "save_plot(XOR, load_xor, filename='plot_xor.png')"
   ]
  },
  {
   "cell_type": "code",
   "execution_count": null,
   "id": "626be64b",
   "metadata": {},
   "outputs": [],
   "source": []
  }
 ],
 "metadata": {
  "kernelspec": {
   "display_name": "Python 3 (ipykernel)",
   "language": "python",
   "name": "python3"
  },
  "language_info": {
   "codemirror_mode": {
    "name": "ipython",
    "version": 3
   },
   "file_extension": ".py",
   "mimetype": "text/x-python",
   "name": "python",
   "nbconvert_exporter": "python",
   "pygments_lexer": "ipython3",
   "version": "3.7.13"
  }
 },
 "nbformat": 4,
 "nbformat_minor": 5
}
